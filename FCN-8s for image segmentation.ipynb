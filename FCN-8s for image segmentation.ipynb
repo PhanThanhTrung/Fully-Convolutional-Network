{
 "cells": [
  {
   "cell_type": "code",
   "execution_count": 1,
   "metadata": {},
   "outputs": [
    {
     "name": "stderr",
     "output_type": "stream",
     "text": [
      "Using TensorFlow backend.\n"
     ]
    }
   ],
   "source": [
    "import keras\n",
    "from keras.layers import *\n",
    "from keras.models import Model,Sequential\n",
    "import os\n",
    "import numpy as np\n",
    "import cv2"
   ]
  },
  {
   "cell_type": "code",
   "execution_count": 2,
   "metadata": {},
   "outputs": [],
   "source": [
    "image_path='/Users/hit.flouxetine/datasets/dataset1/images_prepped_train'\n",
    "anno_path='/Users/hit.flouxetine/datasets/dataset1/annotations_prepped_train'\n",
    "image_height, image_width=360, 480\n",
    "lr=0.001\n",
    "n_classes=11"
   ]
  },
  {
   "cell_type": "code",
   "execution_count": 3,
   "metadata": {},
   "outputs": [
    {
     "data": {
      "text/plain": [
       "((367, 360, 480, 3), (367, 172800, 11))"
      ]
     },
     "execution_count": 3,
     "metadata": {},
     "output_type": "execute_result"
    }
   ],
   "source": [
    "x_train=[]\n",
    "y_train=[]\n",
    "for elem in sorted(os.listdir(image_path)):\n",
    "    file_name=image_path+'/'+elem\n",
    "    image=cv2.imread(file_name)\n",
    "    image=cv2.cvtColor(image,cv2.COLOR_BGR2RGB)\n",
    "    x_train.append(image)\n",
    "    \n",
    "    anno_name=anno_path+'/'+elem\n",
    "    anno=cv2.imread(anno_name)\n",
    "    anno=cv2.cvtColor(anno,cv2.COLOR_BGR2RGB)\n",
    "    anno=anno.reshape((image_width*image_height,3))\n",
    "    anno=anno[...,0]\n",
    "    y_truth=np.zeros((image_width*image_height,n_classes))\n",
    "    for i in range(anno.shape[0]):\n",
    "        y_truth[i][anno[i]-1]=1\n",
    "    y_train.append(y_truth)\n",
    "\n",
    "y_train=np.array(y_train,dtype='float32')\n",
    "x_train=np.array(x_train,dtype='float32')\n",
    "(x_train.shape,y_train.shape)"
   ]
  },
  {
   "cell_type": "code",
   "execution_count": 4,
   "metadata": {},
   "outputs": [],
   "source": [
    "input_layer=Input(shape=(image_height,image_width,3))\n",
    "model=Conv2D(kernel_size=(3,3),filters=64, padding='same', activation='relu')(input_layer)\n",
    "model=Conv2D(kernel_size=(3,3),filters=64, padding='same', activation='relu')(model)\n",
    "model=MaxPool2D(pool_size=(2,2), strides=2)(model)\n",
    "block1=model\n",
    "model=Conv2D(kernel_size=(3,3),filters=128,padding='same', activation='relu')(model)\n",
    "model=Conv2D(kernel_size=(3,3),filters=128,padding='same', activation='relu')(model)\n",
    "model=MaxPool2D(pool_size=(2,2),strides=2)(model)\n",
    "block2=model\n",
    "model=Conv2D(kernel_size=(3,3),filters=256,padding='same', activation='relu')(model)\n",
    "model=Conv2D(kernel_size=(3,3),filters=256,padding='same', activation='relu')(model)\n",
    "model=MaxPool2D(pool_size=(2,2),strides=2)(model)\n",
    "block3=model\n",
    "model=Conv2D(kernel_size=(3,3),filters=512,padding='same', activation='relu')(model)\n",
    "model=Conv2D(kernel_size=(3,3),filters=512,padding='same', activation='relu')(model)\n",
    "model=Conv2D(kernel_size=(3,3),filters=512,padding='same', activation='relu')(model)\n",
    "model=MaxPool2D(pool_size=(2,2),strides=2)(model)\n",
    "block4=model\n",
    "model=Conv2D(kernel_size=(3,3),filters=512,padding='same', activation='relu')(model)\n",
    "model=Conv2D(kernel_size=(3,3),filters=512,padding='same', activation='relu')(model)\n",
    "model=Conv2D(kernel_size=(3,3),filters=512,padding='same', activation='relu')(model)\n",
    "model=ZeroPadding2D(padding=((1,1),(0,0)))(model)\n",
    "model=MaxPool2D(pool_size=(2,2),strides=2)(model)\n",
    "\n",
    "model=Conv2D(kernel_size=(3,3),filters=4096,padding='same', activation='relu')(model)\n",
    "model=Conv2D(kernel_size=(1,1),filters=4096,padding='same', activation='relu')(model)\n",
    "model=Conv2D(kernel_size=(1,1),filters=n_classes,activation='relu')(model)\n",
    "block5=model\n",
    "\n",
    "block5= Conv2DTranspose(kernel_size=(2,2),strides=2,filters=n_classes)(block5)\n",
    "block4= Conv2D(kernel_size=(1,1),filters=n_classes)(block4)\n",
    "block4= ZeroPadding2D(padding=((1,1),(0,0)))(block4)\n",
    "model=Add()([block5,block4])\n",
    "block5=model\n",
    "block5= Conv2DTranspose(kernel_size=(2,2),strides=2,filters=n_classes)(block5)\n",
    "block5= Cropping2D(cropping=((1,0),(0,0)))(block5)\n",
    "block3= Conv2D(filters=n_classes,kernel_size=(1,1))(block3)\n",
    "block3= ZeroPadding2D(padding=((1,1),(0,0)))(block3)\n",
    "model=Add()([block5,block3])\n",
    "\n",
    "model=Conv2DTranspose(filters=n_classes,kernel_size=(8,8),strides=8)(model)\n",
    "model=Cropping2D(cropping=((8,8),(0,0)))(model)\n",
    "model=Reshape((image_height*image_width,n_classes))(model)\n",
    "model=Activation('softmax')(model)\n",
    "model=Model(inputs=input_layer,outputs=model)\n"
   ]
  },
  {
   "cell_type": "code",
   "execution_count": 5,
   "metadata": {},
   "outputs": [],
   "source": [
    "model.compile(loss=keras.losses.categorical_crossentropy,\n",
    "              optimizer='adam',\n",
    "              metrics=['accuracy'])"
   ]
  },
  {
   "cell_type": "code",
   "execution_count": 6,
   "metadata": {},
   "outputs": [
    {
     "name": "stdout",
     "output_type": "stream",
     "text": [
      "Epoch 1/5\n",
      "367/367 [==============================] - 966s 3s/step - loss: 3.3923 - accuracy: 0.0932\n",
      "Epoch 2/5\n",
      "367/367 [==============================] - 937s 3s/step - loss: 2.3571 - accuracy: 0.1341\n",
      "Epoch 3/5\n",
      "367/367 [==============================] - 1027s 3s/step - loss: 2.2856 - accuracy: 0.1723\n",
      "Epoch 4/5\n",
      "367/367 [==============================] - 1069s 3s/step - loss: 2.1582 - accuracy: 0.2195\n",
      "Epoch 5/5\n",
      "367/367 [==============================] - 1010s 3s/step - loss: 1.9874 - accuracy: 0.2592\n"
     ]
    },
    {
     "data": {
      "text/plain": [
       "<keras.callbacks.callbacks.History at 0x16e9eecd0>"
      ]
     },
     "execution_count": 6,
     "metadata": {},
     "output_type": "execute_result"
    }
   ],
   "source": [
    "model.fit(x_train,y_train,epochs=5,batch_size=64)"
   ]
  },
  {
   "cell_type": "code",
   "execution_count": null,
   "metadata": {},
   "outputs": [],
   "source": []
  }
 ],
 "metadata": {
  "kernelspec": {
   "display_name": "Python 3",
   "language": "python",
   "name": "python3"
  },
  "language_info": {
   "codemirror_mode": {
    "name": "ipython",
    "version": 3
   },
   "file_extension": ".py",
   "mimetype": "text/x-python",
   "name": "python",
   "nbconvert_exporter": "python",
   "pygments_lexer": "ipython3",
   "version": "3.7.6"
  }
 },
 "nbformat": 4,
 "nbformat_minor": 4
}
